{
 "cells": [
  {
   "cell_type": "code",
   "execution_count": 65,
   "metadata": {},
   "outputs": [],
   "source": [
    "import gspread\n",
    "import mysql.connector\n",
    "from oauth2client.service_account import ServiceAccountCredentials\n"
   ]
  },
  {
   "cell_type": "code",
   "execution_count": 66,
   "metadata": {},
   "outputs": [
    {
     "name": "stdout",
     "output_type": "stream",
     "text": [
      "[[], ['', '', 'Order Date', 'Name of Client on Order Form', 'Customer Invoice', 'Film or Rescreen', '£ value', '$ value', 'Initials of sales person / researcher', '# in month', '', 'Sales Person Monthly Tally', 'Monthly Revenue Value', '# Orders for Sales'], [], ['', '', '', 'Jan-20'], [], ['', '', '01/01/2020', 'Seimens Medical Solutions', 'Paid', '5 Minute Film', '£17,037.49', '$22,500', 'AM', '1', '', 'AM', '£17,037.49', '1'], ['', '', '30/02/2020', 'University of Colorado', 'Unpaid', '7 Minute Film', '£17,037.49', '$22,500', 'CF', '2', '', 'CF', '£17,037.49', '1'], [], ['', '', '', '', '', 'Jan-20', '£34,074.98'], [], ['', '', '', 'Feb-20'], [], ['', '', '18/02/2020', 'NASA Heliophysics Division', 'Paid', '5 Minute Film', '£17,037.49', '$22,500', 'AM', '1', '', 'AM', '£17,037.49', '2'], ['', '', '25/02/2020', 'University of Harvard', 'Paid', '5 Minute FIlm', '£17,037.49', '$22,500', 'TS/DR', '2', '', 'TS/DR', '£17,037.49', '2'], [], ['', '', '', '', '', 'Feb-20', '£34,074.98']]\n"
     ]
    }
   ],
   "source": [
    "# initialize variables for gspread\n",
    "\n",
    "scope = [\"https://spreadsheets.google.com/feeds\", \"https://www.googleapis.com/auth/drive\"]\n",
    "         \n",
    "creds = ServiceAccountCredentials.from_json_keyfile_name(\"leafy-metrics-300714-9548969a14cf.json\", scope)\n",
    "         \n",
    "client = gspread.authorize(creds)\n",
    "ss = client.open(\"Total Sales Sheet\")\n",
    "\n",
    "ws = ss.worksheet('Sheet1')\n",
    "\n",
    "print(ws.get())"
   ]
  },
  {
   "cell_type": "code",
   "execution_count": 189,
   "metadata": {
    "scrolled": true
   },
   "outputs": [
    {
     "name": "stdout",
     "output_type": "stream",
     "text": [
      "['Seimens Medical Solutions']\n",
      "Name of Client on Order Form\n"
     ]
    }
   ],
   "source": [
    "#Isolates film table data\n",
    "\n",
    "datalist = []\n",
    "\n",
    "for x in ws.get():\n",
    "    for val in x:\n",
    "        data = (val.strip())\n",
    "        if data == '': continue\n",
    "        datalist.append(data)\n",
    "\n",
    "#print(datalist)\n",
    "\n",
    "y = 12\n",
    "\n",
    "order_date=[]\n",
    "name_of_client=[]\n",
    "film_type=[]\n",
    "gbp_price=[]\n",
    "usd_price=[]\n",
    "salesperson=[]\n",
    "\n",
    "order_date.append(datalist[y])\n",
    "name_of_client.append(datalist[y+1])\n",
    "film_type.append(datalist[y+3])\n",
    "gbp_price.append(datalist[y+4])\n",
    "usd_price.append(datalist[y+5])\n",
    "salesperson.append(datalist [y+6])\n",
    "y+11\n",
    "\n",
    "print(name_of_client) \n",
    "print(datalist[1])\n",
    "        "
   ]
  },
  {
   "cell_type": "code",
   "execution_count": null,
   "metadata": {},
   "outputs": [],
   "source": []
  },
  {
   "cell_type": "code",
   "execution_count": null,
   "metadata": {},
   "outputs": [],
   "source": []
  },
  {
   "cell_type": "code",
   "execution_count": null,
   "metadata": {},
   "outputs": [],
   "source": []
  }
 ],
 "metadata": {
  "kernelspec": {
   "display_name": "Python 3",
   "language": "python",
   "name": "python3"
  },
  "language_info": {
   "codemirror_mode": {
    "name": "ipython",
    "version": 3
   },
   "file_extension": ".py",
   "mimetype": "text/x-python",
   "name": "python",
   "nbconvert_exporter": "python",
   "pygments_lexer": "ipython3",
   "version": "3.8.3"
  }
 },
 "nbformat": 4,
 "nbformat_minor": 4
}
